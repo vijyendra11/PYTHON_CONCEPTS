{
 "cells": [
  {
   "cell_type": "markdown",
   "id": "5fd79bea",
   "metadata": {},
   "source": [
    "* Print is noting but the function in python.\n",
    "* We can create our own function also in python."
   ]
  },
  {
   "cell_type": "code",
   "execution_count": 2,
   "id": "316bf19b",
   "metadata": {
    "scrolled": true
   },
   "outputs": [
    {
     "name": "stdout",
     "output_type": "stream",
     "text": [
      "This is my first programm\n"
     ]
    }
   ],
   "source": [
    "print(\"This is my first programm\")"
   ]
  },
  {
   "cell_type": "code",
   "execution_count": 4,
   "id": "c8d12150",
   "metadata": {},
   "outputs": [
    {
     "ename": "SyntaxError",
     "evalue": "Missing parentheses in call to 'print'. Did you mean print(\"This is my fist programm\")? (1277816213.py, line 2)",
     "output_type": "error",
     "traceback": [
      "\u001b[1;36m  Input \u001b[1;32mIn [4]\u001b[1;36m\u001b[0m\n\u001b[1;33m    print \"This is my fist programm\"\u001b[0m\n\u001b[1;37m          ^\u001b[0m\n\u001b[1;31mSyntaxError\u001b[0m\u001b[1;31m:\u001b[0m Missing parentheses in call to 'print'. Did you mean print(\"This is my fist programm\")?\n"
     ]
    }
   ],
   "source": [
    "# This was correct in the python 2.x version not in 3.x version\n",
    "print \"This is my fist programm\""
   ]
  },
  {
   "cell_type": "markdown",
   "id": "aadac194",
   "metadata": {},
   "source": [
    "* For single line comment, we can use # at the starting of the line.\n",
    "* For multiple line comment, we use tripple quotes at the starting and at the end of the code."
   ]
  },
  {
   "cell_type": "markdown",
   "id": "cecb2c89",
   "metadata": {},
   "source": [
    "### Variables in python\n",
    "\n",
    "* Variables are used to store the data.\n",
    "* Role of the variableis keeping the data in main memory.\n",
    "* Main memory is nothing but the RAM. It is a temporary memory.\n",
    "* If we shut down our system and reopen then all the variables will be gone, we have to run it again.\n"
   ]
  },
  {
   "cell_type": "code",
   "execution_count": 6,
   "id": "9b64e130",
   "metadata": {},
   "outputs": [],
   "source": [
    "a = 10"
   ]
  },
  {
   "cell_type": "markdown",
   "id": "ecad93f1",
   "metadata": {},
   "source": [
    "* In python, variables are capable of understanding the data autmatically, We do not need to give the variables name lie other programming languages."
   ]
  },
  {
   "cell_type": "markdown",
   "id": "134a8eef",
   "metadata": {},
   "source": [
    "### TYPE FUNTION\n",
    "* Type is the function that will check the data type.\n"
   ]
  },
  {
   "cell_type": "code",
   "execution_count": 7,
   "id": "964f7628",
   "metadata": {},
   "outputs": [
    {
     "data": {
      "text/plain": [
       "int"
      ]
     },
     "execution_count": 7,
     "metadata": {},
     "output_type": "execute_result"
    }
   ],
   "source": [
    "type(a)"
   ]
  },
  {
   "cell_type": "code",
   "execution_count": 18,
   "id": "be9792ef",
   "metadata": {},
   "outputs": [
    {
     "data": {
      "text/plain": [
       "'Vijyendra Singh'"
      ]
     },
     "execution_count": 18,
     "metadata": {},
     "output_type": "execute_result"
    }
   ],
   "source": [
    "# The output of any float will be shown in single quote only.\n",
    "b = \"Vijyendra Singh\"\n",
    "b"
   ]
  },
  {
   "cell_type": "code",
   "execution_count": 19,
   "id": "550704fd",
   "metadata": {},
   "outputs": [
    {
     "data": {
      "text/plain": [
       "str"
      ]
     },
     "execution_count": 19,
     "metadata": {},
     "output_type": "execute_result"
    }
   ],
   "source": [
    "type(b)"
   ]
  },
  {
   "cell_type": "code",
   "execution_count": 20,
   "id": "03008451",
   "metadata": {},
   "outputs": [],
   "source": [
    "c = True"
   ]
  },
  {
   "cell_type": "code",
   "execution_count": 21,
   "id": "03f46b61",
   "metadata": {},
   "outputs": [
    {
     "data": {
      "text/plain": [
       "bool"
      ]
     },
     "execution_count": 21,
     "metadata": {},
     "output_type": "execute_result"
    }
   ],
   "source": [
    "type(c)"
   ]
  },
  {
   "cell_type": "code",
   "execution_count": 22,
   "id": "56e97312",
   "metadata": {},
   "outputs": [],
   "source": [
    "d = 56.87"
   ]
  },
  {
   "cell_type": "code",
   "execution_count": 23,
   "id": "50962533",
   "metadata": {},
   "outputs": [
    {
     "data": {
      "text/plain": [
       "float"
      ]
     },
     "execution_count": 23,
     "metadata": {},
     "output_type": "execute_result"
    }
   ],
   "source": [
    "type(d)"
   ]
  },
  {
   "cell_type": "code",
   "execution_count": 14,
   "id": "cd320d65",
   "metadata": {},
   "outputs": [],
   "source": [
    "e = 78 + 76j"
   ]
  },
  {
   "cell_type": "code",
   "execution_count": 15,
   "id": "0233cc01",
   "metadata": {},
   "outputs": [
    {
     "data": {
      "text/plain": [
       "complex"
      ]
     },
     "execution_count": 15,
     "metadata": {},
     "output_type": "execute_result"
    }
   ],
   "source": [
    "type(e)"
   ]
  },
  {
   "cell_type": "markdown",
   "id": "78a7a1b6",
   "metadata": {},
   "source": [
    "* We can call the variables by two methods. \n",
    "* First by calling the variables name. \n",
    "* Second is by using the print function."
   ]
  },
  {
   "cell_type": "code",
   "execution_count": 24,
   "id": "aa39ad69",
   "metadata": {},
   "outputs": [
    {
     "data": {
      "text/plain": [
       "10"
      ]
     },
     "execution_count": 24,
     "metadata": {},
     "output_type": "execute_result"
    }
   ],
   "source": [
    "a"
   ]
  },
  {
   "cell_type": "code",
   "execution_count": 25,
   "id": "9d860d6e",
   "metadata": {},
   "outputs": [
    {
     "name": "stdout",
     "output_type": "stream",
     "text": [
      "10\n"
     ]
    }
   ],
   "source": [
    "print(a)"
   ]
  },
  {
   "cell_type": "code",
   "execution_count": 27,
   "id": "5e1ff153",
   "metadata": {},
   "outputs": [
    {
     "data": {
      "text/plain": [
       "'Vijyendra Singh'"
      ]
     },
     "execution_count": 27,
     "metadata": {},
     "output_type": "execute_result"
    }
   ],
   "source": [
    "b"
   ]
  },
  {
   "cell_type": "code",
   "execution_count": 28,
   "id": "af2e56ba",
   "metadata": {},
   "outputs": [
    {
     "name": "stdout",
     "output_type": "stream",
     "text": [
      "10 Vijyendra Singh Singh\n"
     ]
    }
   ],
   "source": [
    "print(a, b, \"Singh\")"
   ]
  },
  {
   "cell_type": "code",
   "execution_count": 29,
   "id": "8577a0f1",
   "metadata": {},
   "outputs": [],
   "source": [
    "a, b = 40, \"Vijyendra\""
   ]
  },
  {
   "cell_type": "code",
   "execution_count": 30,
   "id": "7b6e2053",
   "metadata": {},
   "outputs": [
    {
     "data": {
      "text/plain": [
       "40"
      ]
     },
     "execution_count": 30,
     "metadata": {},
     "output_type": "execute_result"
    }
   ],
   "source": [
    "a\n"
   ]
  },
  {
   "cell_type": "code",
   "execution_count": 31,
   "id": "33ff1a1a",
   "metadata": {},
   "outputs": [
    {
     "data": {
      "text/plain": [
       "'Vijyendra'"
      ]
     },
     "execution_count": 31,
     "metadata": {},
     "output_type": "execute_result"
    }
   ],
   "source": [
    "b"
   ]
  },
  {
   "cell_type": "code",
   "execution_count": 32,
   "id": "31165dfb",
   "metadata": {},
   "outputs": [
    {
     "data": {
      "text/plain": [
       "int"
      ]
     },
     "execution_count": 32,
     "metadata": {},
     "output_type": "execute_result"
    }
   ],
   "source": [
    "type(a)"
   ]
  },
  {
   "cell_type": "code",
   "execution_count": 33,
   "id": "6e8c2b47",
   "metadata": {},
   "outputs": [
    {
     "data": {
      "text/plain": [
       "str"
      ]
     },
     "execution_count": 33,
     "metadata": {},
     "output_type": "execute_result"
    }
   ],
   "source": [
    "type(b)"
   ]
  },
  {
   "cell_type": "code",
   "execution_count": 34,
   "id": "42b4ce76",
   "metadata": {},
   "outputs": [
    {
     "data": {
      "text/plain": [
       "(40, 'Vijyendra')"
      ]
     },
     "execution_count": 34,
     "metadata": {},
     "output_type": "execute_result"
    }
   ],
   "source": [
    "# If we call variables by this way then output will always come as a tupple.\n",
    "a,b"
   ]
  },
  {
   "cell_type": "markdown",
   "id": "1cfda136",
   "metadata": {},
   "source": [
    "* Variables name can not be started with number"
   ]
  },
  {
   "cell_type": "code",
   "execution_count": 35,
   "id": "33fc884a",
   "metadata": {},
   "outputs": [
    {
     "ename": "SyntaxError",
     "evalue": "invalid syntax (3123592570.py, line 1)",
     "output_type": "error",
     "traceback": [
      "\u001b[1;36m  Input \u001b[1;32mIn [35]\u001b[1;36m\u001b[0m\n\u001b[1;33m    1b = \"Vijyendra\"\u001b[0m\n\u001b[1;37m     ^\u001b[0m\n\u001b[1;31mSyntaxError\u001b[0m\u001b[1;31m:\u001b[0m invalid syntax\n"
     ]
    }
   ],
   "source": [
    "1b = \"Vijyendra\""
   ]
  },
  {
   "cell_type": "code",
   "execution_count": 37,
   "id": "9e2d65ed",
   "metadata": {},
   "outputs": [],
   "source": [
    "# Variables name can start with the under score\n",
    "_b = \"kkag\""
   ]
  },
  {
   "cell_type": "code",
   "execution_count": 38,
   "id": "ac4ec143",
   "metadata": {},
   "outputs": [],
   "source": [
    "name = \"Vijyendra\"\n",
    "user_id = \"62581\"\n",
    "password = \"kagdkd\"\n",
    "mail = \"Vijyendra@gmail.com\""
   ]
  },
  {
   "cell_type": "code",
   "execution_count": 39,
   "id": "d731b8d1",
   "metadata": {},
   "outputs": [],
   "source": [
    "a = 10.6"
   ]
  },
  {
   "cell_type": "code",
   "execution_count": 40,
   "id": "dc89b747",
   "metadata": {},
   "outputs": [
    {
     "data": {
      "text/plain": [
       "float"
      ]
     },
     "execution_count": 40,
     "metadata": {},
     "output_type": "execute_result"
    }
   ],
   "source": [
    "type(a)"
   ]
  },
  {
   "cell_type": "code",
   "execution_count": 41,
   "id": "29c34ef6",
   "metadata": {},
   "outputs": [
    {
     "data": {
      "text/plain": [
       "bool"
      ]
     },
     "execution_count": 41,
     "metadata": {},
     "output_type": "execute_result"
    }
   ],
   "source": [
    "c = True\n",
    "d = False\n",
    "type(c)\n",
    "type(d)"
   ]
  },
  {
   "cell_type": "code",
   "execution_count": 42,
   "id": "9a853556",
   "metadata": {},
   "outputs": [
    {
     "name": "stdout",
     "output_type": "stream",
     "text": [
      "3\n"
     ]
    }
   ],
   "source": [
    "print(True + True + False+True)"
   ]
  },
  {
   "cell_type": "code",
   "execution_count": 43,
   "id": "738ed0b8",
   "metadata": {},
   "outputs": [
    {
     "name": "stdout",
     "output_type": "stream",
     "text": [
      "0\n"
     ]
    }
   ],
   "source": [
    "print(False - True + True)"
   ]
  },
  {
   "cell_type": "code",
   "execution_count": 44,
   "id": "e7c2b706",
   "metadata": {},
   "outputs": [
    {
     "data": {
      "text/plain": [
       "2"
      ]
     },
     "execution_count": 44,
     "metadata": {},
     "output_type": "execute_result"
    }
   ],
   "source": [
    "True + True"
   ]
  },
  {
   "cell_type": "code",
   "execution_count": 45,
   "id": "523dfafd",
   "metadata": {},
   "outputs": [
    {
     "data": {
      "text/plain": [
       "1"
      ]
     },
     "execution_count": 45,
     "metadata": {},
     "output_type": "execute_result"
    }
   ],
   "source": [
    "True + False"
   ]
  },
  {
   "cell_type": "code",
   "execution_count": 46,
   "id": "7d397b1a",
   "metadata": {},
   "outputs": [
    {
     "data": {
      "text/plain": [
       "1"
      ]
     },
     "execution_count": 46,
     "metadata": {},
     "output_type": "execute_result"
    }
   ],
   "source": [
    "True * True"
   ]
  },
  {
   "cell_type": "code",
   "execution_count": 47,
   "id": "21659ba8",
   "metadata": {},
   "outputs": [
    {
     "ename": "ZeroDivisionError",
     "evalue": "division by zero",
     "output_type": "error",
     "traceback": [
      "\u001b[1;31m---------------------------------------------------------------------------\u001b[0m",
      "\u001b[1;31mZeroDivisionError\u001b[0m                         Traceback (most recent call last)",
      "Input \u001b[1;32mIn [47]\u001b[0m, in \u001b[0;36m<cell line: 1>\u001b[1;34m()\u001b[0m\n\u001b[1;32m----> 1\u001b[0m \u001b[38;5;28;43;01mTrue\u001b[39;49;00m\u001b[43m \u001b[49m\u001b[38;5;241;43m/\u001b[39;49m\u001b[43m \u001b[49m\u001b[38;5;28;43;01mFalse\u001b[39;49;00m\n",
      "\u001b[1;31mZeroDivisionError\u001b[0m: division by zero"
     ]
    }
   ],
   "source": [
    "True / False"
   ]
  },
  {
   "cell_type": "code",
   "execution_count": 48,
   "id": "87e7a367",
   "metadata": {},
   "outputs": [
    {
     "ename": "ZeroDivisionError",
     "evalue": "division by zero",
     "output_type": "error",
     "traceback": [
      "\u001b[1;31m---------------------------------------------------------------------------\u001b[0m",
      "\u001b[1;31mZeroDivisionError\u001b[0m                         Traceback (most recent call last)",
      "Input \u001b[1;32mIn [48]\u001b[0m, in \u001b[0;36m<cell line: 1>\u001b[1;34m()\u001b[0m\n\u001b[1;32m----> 1\u001b[0m \u001b[38;5;28;43;01mFalse\u001b[39;49;00m\u001b[43m \u001b[49m\u001b[38;5;241;43m/\u001b[39;49m\u001b[43m \u001b[49m\u001b[38;5;28;43;01mFalse\u001b[39;49;00m\n",
      "\u001b[1;31mZeroDivisionError\u001b[0m: division by zero"
     ]
    }
   ],
   "source": [
    "False / False"
   ]
  },
  {
   "cell_type": "markdown",
   "id": "9f59df69",
   "metadata": {},
   "source": [
    "### Complex Number\n",
    "* In complex number, for imaginary we must use only j in python"
   ]
  },
  {
   "cell_type": "code",
   "execution_count": 52,
   "id": "261191ba",
   "metadata": {},
   "outputs": [],
   "source": [
    "n = 45 + 7j "
   ]
  },
  {
   "cell_type": "code",
   "execution_count": 53,
   "id": "c4beed41",
   "metadata": {},
   "outputs": [
    {
     "data": {
      "text/plain": [
       "complex"
      ]
     },
     "execution_count": 53,
     "metadata": {},
     "output_type": "execute_result"
    }
   ],
   "source": [
    "type(n)"
   ]
  },
  {
   "cell_type": "code",
   "execution_count": 54,
   "id": "cfa929cb",
   "metadata": {},
   "outputs": [
    {
     "data": {
      "text/plain": [
       "45.0"
      ]
     },
     "execution_count": 54,
     "metadata": {},
     "output_type": "execute_result"
    }
   ],
   "source": [
    "n.real"
   ]
  },
  {
   "cell_type": "code",
   "execution_count": 57,
   "id": "06a55161",
   "metadata": {},
   "outputs": [
    {
     "data": {
      "text/plain": [
       "7.0"
      ]
     },
     "execution_count": 57,
     "metadata": {},
     "output_type": "execute_result"
    }
   ],
   "source": [
    "n.imag"
   ]
  },
  {
   "cell_type": "code",
   "execution_count": 58,
   "id": "e3fef7f4",
   "metadata": {},
   "outputs": [],
   "source": [
    "m = 56 +9j"
   ]
  },
  {
   "cell_type": "code",
   "execution_count": 59,
   "id": "0dc3b4fb",
   "metadata": {},
   "outputs": [
    {
     "data": {
      "text/plain": [
       "(101+16j)"
      ]
     },
     "execution_count": 59,
     "metadata": {},
     "output_type": "execute_result"
    }
   ],
   "source": [
    "n + m"
   ]
  },
  {
   "cell_type": "code",
   "execution_count": 60,
   "id": "ab7865b3",
   "metadata": {},
   "outputs": [
    {
     "data": {
      "text/plain": [
       "(-11-2j)"
      ]
     },
     "execution_count": 60,
     "metadata": {},
     "output_type": "execute_result"
    }
   ],
   "source": [
    "n-m"
   ]
  },
  {
   "cell_type": "code",
   "execution_count": 61,
   "id": "69830567",
   "metadata": {},
   "outputs": [
    {
     "data": {
      "text/plain": [
       "(2457+797j)"
      ]
     },
     "execution_count": 61,
     "metadata": {},
     "output_type": "execute_result"
    }
   ],
   "source": [
    "n*m"
   ]
  },
  {
   "cell_type": "code",
   "execution_count": 62,
   "id": "a13f71e7",
   "metadata": {},
   "outputs": [
    {
     "data": {
      "text/plain": [
       "(0.8029219769972024-0.004041032017407531j)"
      ]
     },
     "execution_count": 62,
     "metadata": {},
     "output_type": "execute_result"
    }
   ],
   "source": [
    "n/m"
   ]
  },
  {
   "cell_type": "markdown",
   "id": "6415a1da",
   "metadata": {},
   "source": [
    "* Python is like a dynamic programming. we do not need to say about the variable type, It autmatically detects the data type."
   ]
  },
  {
   "cell_type": "code",
   "execution_count": 63,
   "id": "c4c6ddd5",
   "metadata": {},
   "outputs": [
    {
     "ename": "TypeError",
     "evalue": "unsupported operand type(s) for +: 'int' and 'str'",
     "output_type": "error",
     "traceback": [
      "\u001b[1;31m---------------------------------------------------------------------------\u001b[0m",
      "\u001b[1;31mTypeError\u001b[0m                                 Traceback (most recent call last)",
      "Input \u001b[1;32mIn [63]\u001b[0m, in \u001b[0;36m<cell line: 1>\u001b[1;34m()\u001b[0m\n\u001b[1;32m----> 1\u001b[0m \u001b[38;5;241;43m1\u001b[39;49m\u001b[43m \u001b[49m\u001b[38;5;241;43m+\u001b[39;49m\u001b[43m \u001b[49m\u001b[38;5;124;43m\"\u001b[39;49m\u001b[38;5;124;43mVijyendra\u001b[39;49m\u001b[38;5;124;43m\"\u001b[39;49m\n",
      "\u001b[1;31mTypeError\u001b[0m: unsupported operand type(s) for +: 'int' and 'str'"
     ]
    }
   ],
   "source": [
    "1 + \"Vijyendra\""
   ]
  },
  {
   "cell_type": "markdown",
   "id": "78f6f34b",
   "metadata": {},
   "source": [
    "* In the above line of code 1 is having different data type and \"Vijynedra\" is having the different data type.\n",
    "* Python will only be able to operate with the same data type. It will not work with the differenr data type."
   ]
  },
  {
   "cell_type": "markdown",
   "id": "503a523a",
   "metadata": {},
   "source": [
    "* Type csting is nothing but the converting one data type into other data type"
   ]
  },
  {
   "cell_type": "code",
   "execution_count": 64,
   "id": "f100e09f",
   "metadata": {},
   "outputs": [
    {
     "data": {
      "text/plain": [
       "'1Vijyendra'"
      ]
     },
     "execution_count": 64,
     "metadata": {},
     "output_type": "execute_result"
    }
   ],
   "source": [
    "str(1) + \"Vijyendra\""
   ]
  },
  {
   "cell_type": "code",
   "execution_count": 66,
   "id": "0552a87b",
   "metadata": {},
   "outputs": [
    {
     "data": {
      "text/plain": [
       "'1 Vijyendra'"
      ]
     },
     "execution_count": 66,
     "metadata": {},
     "output_type": "execute_result"
    }
   ],
   "source": [
    "str(1) + \" \" + \"Vijyendra\""
   ]
  },
  {
   "cell_type": "markdown",
   "id": "648f3374",
   "metadata": {},
   "source": [
    "* Python supports strong typing as well as dynamic typing"
   ]
  },
  {
   "cell_type": "code",
   "execution_count": 67,
   "id": "ba06091d",
   "metadata": {},
   "outputs": [
    {
     "data": {
      "text/plain": [
       "2.0"
      ]
     },
     "execution_count": 67,
     "metadata": {},
     "output_type": "execute_result"
    }
   ],
   "source": [
    "1 + 1.0"
   ]
  },
  {
   "cell_type": "code",
   "execution_count": 68,
   "id": "3a9722f4",
   "metadata": {},
   "outputs": [
    {
     "data": {
      "text/plain": [
       "float"
      ]
     },
     "execution_count": 68,
     "metadata": {},
     "output_type": "execute_result"
    }
   ],
   "source": [
    "type(1 + 1.0)"
   ]
  },
  {
   "cell_type": "markdown",
   "id": "ceef0747",
   "metadata": {},
   "source": [
    "* Floating point number always takes more memory than integer point number.\n",
    "* Python always does upcasting in this case."
   ]
  },
  {
   "cell_type": "markdown",
   "id": "760df835",
   "metadata": {},
   "source": [
    "* Concatinating Operation"
   ]
  },
  {
   "cell_type": "code",
   "execution_count": 69,
   "id": "b582e45f",
   "metadata": {},
   "outputs": [
    {
     "data": {
      "text/plain": [
       "'VijVijVij'"
      ]
     },
     "execution_count": 69,
     "metadata": {},
     "output_type": "execute_result"
    }
   ],
   "source": [
    "\"Vij\" + \"Vij\" + \"Vij\""
   ]
  },
  {
   "cell_type": "markdown",
   "id": "0aae9834",
   "metadata": {},
   "source": [
    "* Multiplication in case of string is nothing but, that many times string will be repeated."
   ]
  },
  {
   "cell_type": "code",
   "execution_count": 70,
   "id": "6dae37bb",
   "metadata": {},
   "outputs": [
    {
     "data": {
      "text/plain": [
       "'VijVijVij'"
      ]
     },
     "execution_count": 70,
     "metadata": {},
     "output_type": "execute_result"
    }
   ],
   "source": [
    "\"Vij\" * 3"
   ]
  },
  {
   "cell_type": "code",
   "execution_count": 71,
   "id": "f44ca759",
   "metadata": {},
   "outputs": [
    {
     "ename": "TypeError",
     "evalue": "unsupported operand type(s) for /: 'str' and 'int'",
     "output_type": "error",
     "traceback": [
      "\u001b[1;31m---------------------------------------------------------------------------\u001b[0m",
      "\u001b[1;31mTypeError\u001b[0m                                 Traceback (most recent call last)",
      "Input \u001b[1;32mIn [71]\u001b[0m, in \u001b[0;36m<cell line: 1>\u001b[1;34m()\u001b[0m\n\u001b[1;32m----> 1\u001b[0m \u001b[38;5;124;43m\"\u001b[39;49m\u001b[38;5;124;43mVij\u001b[39;49m\u001b[38;5;124;43m\"\u001b[39;49m\u001b[43m \u001b[49m\u001b[38;5;241;43m/\u001b[39;49m\u001b[43m \u001b[49m\u001b[38;5;241;43m3\u001b[39;49m\n",
      "\u001b[1;31mTypeError\u001b[0m: unsupported operand type(s) for /: 'str' and 'int'"
     ]
    }
   ],
   "source": [
    "\"Vij\" / 3"
   ]
  },
  {
   "cell_type": "code",
   "execution_count": 72,
   "id": "a6b13815",
   "metadata": {},
   "outputs": [
    {
     "ename": "TypeError",
     "evalue": "unsupported operand type(s) for -: 'str' and 'str'",
     "output_type": "error",
     "traceback": [
      "\u001b[1;31m---------------------------------------------------------------------------\u001b[0m",
      "\u001b[1;31mTypeError\u001b[0m                                 Traceback (most recent call last)",
      "Input \u001b[1;32mIn [72]\u001b[0m, in \u001b[0;36m<cell line: 1>\u001b[1;34m()\u001b[0m\n\u001b[1;32m----> 1\u001b[0m \u001b[38;5;124;43m\"\u001b[39;49m\u001b[38;5;124;43mVij\u001b[39;49m\u001b[38;5;124;43m\"\u001b[39;49m\u001b[43m \u001b[49m\u001b[38;5;241;43m-\u001b[39;49m\u001b[43m \u001b[49m\u001b[38;5;124;43m\"\u001b[39;49m\u001b[38;5;124;43mVij\u001b[39;49m\u001b[38;5;124;43m\"\u001b[39;49m\n",
      "\u001b[1;31mTypeError\u001b[0m: unsupported operand type(s) for -: 'str' and 'str'"
     ]
    }
   ],
   "source": [
    "\"Vij\" - \"Vij\""
   ]
  },
  {
   "cell_type": "code",
   "execution_count": 73,
   "id": "e5ed677d",
   "metadata": {},
   "outputs": [
    {
     "data": {
      "text/plain": [
       "23"
      ]
     },
     "execution_count": 73,
     "metadata": {},
     "output_type": "execute_result"
    }
   ],
   "source": [
    "int('23')"
   ]
  },
  {
   "cell_type": "code",
   "execution_count": 74,
   "id": "c51714c1",
   "metadata": {},
   "outputs": [
    {
     "data": {
      "text/plain": [
       "int"
      ]
     },
     "execution_count": 74,
     "metadata": {},
     "output_type": "execute_result"
    }
   ],
   "source": [
    "type(int('23'))"
   ]
  },
  {
   "cell_type": "code",
   "execution_count": 76,
   "id": "ded64ef4",
   "metadata": {},
   "outputs": [
    {
     "ename": "ValueError",
     "evalue": "invalid literal for int() with base 10: 'Vij'",
     "output_type": "error",
     "traceback": [
      "\u001b[1;31m---------------------------------------------------------------------------\u001b[0m",
      "\u001b[1;31mValueError\u001b[0m                                Traceback (most recent call last)",
      "Input \u001b[1;32mIn [76]\u001b[0m, in \u001b[0;36m<cell line: 1>\u001b[1;34m()\u001b[0m\n\u001b[1;32m----> 1\u001b[0m \u001b[38;5;28;43mint\u001b[39;49m\u001b[43m(\u001b[49m\u001b[38;5;124;43m'\u001b[39;49m\u001b[38;5;124;43mVij\u001b[39;49m\u001b[38;5;124;43m'\u001b[39;49m\u001b[43m)\u001b[49m\n",
      "\u001b[1;31mValueError\u001b[0m: invalid literal for int() with base 10: 'Vij'"
     ]
    }
   ],
   "source": [
    "int('Vij')"
   ]
  },
  {
   "cell_type": "markdown",
   "id": "2f762a7b",
   "metadata": {},
   "source": [
    "### Input Data"
   ]
  },
  {
   "cell_type": "code",
   "execution_count": 77,
   "id": "bd296663",
   "metadata": {},
   "outputs": [
    {
     "name": "stdout",
     "output_type": "stream",
     "text": [
      "\"xgjag\"\n"
     ]
    }
   ],
   "source": [
    "a = input()"
   ]
  },
  {
   "cell_type": "code",
   "execution_count": 78,
   "id": "a5707ce8",
   "metadata": {},
   "outputs": [
    {
     "data": {
      "text/plain": [
       "str"
      ]
     },
     "execution_count": 78,
     "metadata": {},
     "output_type": "execute_result"
    }
   ],
   "source": [
    "type(a)"
   ]
  },
  {
   "cell_type": "code",
   "execution_count": 79,
   "id": "b5130748",
   "metadata": {},
   "outputs": [
    {
     "name": "stdout",
     "output_type": "stream",
     "text": [
      "Enter a number\n",
      "345\n"
     ]
    }
   ],
   "source": [
    "b = input(\"Enter a number\\n\")"
   ]
  },
  {
   "cell_type": "code",
   "execution_count": 80,
   "id": "88600862",
   "metadata": {},
   "outputs": [
    {
     "data": {
      "text/plain": [
       "str"
      ]
     },
     "execution_count": 80,
     "metadata": {},
     "output_type": "execute_result"
    }
   ],
   "source": [
    "type(b)"
   ]
  },
  {
   "cell_type": "markdown",
   "id": "0dc26f8b",
   "metadata": {},
   "source": [
    "* input() always gives the string data type as an output"
   ]
  },
  {
   "cell_type": "code",
   "execution_count": 86,
   "id": "fab80ce6",
   "metadata": {},
   "outputs": [
    {
     "name": "stdout",
     "output_type": "stream",
     "text": [
      "Enter a number: 23\n",
      "Enter a number: 34\n",
      "Enter a number: 45\n",
      "o:  1.2666666666666666\n",
      "o1:  (32+7j)\n",
      "o2:  (90+98j)\n",
      "o3:  23Vijyendra\n"
     ]
    }
   ],
   "source": [
    "a = int(input(\"Enter a number: \"))\n",
    "b = int(input(\"Enter a number: \"))\n",
    "c = int(input(\"Enter a number: \"))\n",
    "\n",
    "o = ((a+b)/c)\n",
    "print(\"o: \", o)\n",
    "\n",
    "# Even without converting integer to complex we can perform operation with complex\n",
    "o1 = complex(a) + (9 +7j)\n",
    "o2 = a + (67 +98j)\n",
    "print(\"o1: \", o1)\n",
    "print(\"o2: \", o2)\n",
    "\n",
    "o3 = str(a) + \"Vijyendra\"\n",
    "print(\"o3: \", o3)"
   ]
  },
  {
   "cell_type": "markdown",
   "id": "87981f95",
   "metadata": {},
   "source": [
    "### Decision making statement"
   ]
  },
  {
   "cell_type": "code",
   "execution_count": 89,
   "id": "b174f0a3",
   "metadata": {},
   "outputs": [
    {
     "name": "stdout",
     "output_type": "stream",
     "text": [
      "Enter the integer lower than 34:---35\n"
     ]
    }
   ],
   "source": [
    "a = int(input(\"Enter the integer lower than 34:---\"))\n"
   ]
  },
  {
   "cell_type": "code",
   "execution_count": 90,
   "id": "e2a95e1d",
   "metadata": {},
   "outputs": [
    {
     "name": "stdout",
     "output_type": "stream",
     "text": [
      "The value is greater than 34\n"
     ]
    }
   ],
   "source": [
    "if a<34:\n",
    "    pass\n",
    "else:\n",
    "    print(\"The value is greater than 34\")"
   ]
  },
  {
   "cell_type": "markdown",
   "id": "d4939a8c",
   "metadata": {},
   "source": [
    "* Pass is something, which will close the statement with no ouput at the end \n",
    "* If we dont want to write as statement then use pass to complete the hierarchy "
   ]
  },
  {
   "cell_type": "code",
   "execution_count": 91,
   "id": "4a7ee666",
   "metadata": {},
   "outputs": [
    {
     "name": "stdout",
     "output_type": "stream",
     "text": [
      "Data is lesser than 100\n"
     ]
    }
   ],
   "source": [
    "if a<34:\n",
    "    print(\"Data input is lesser than 34\")\n",
    "elif a<100:\n",
    "    print(\"Data is lesser than 100\")\n",
    "else:\n",
    "    print(\"Data point is greater than 34, and everything is not fine\")"
   ]
  },
  {
   "cell_type": "code",
   "execution_count": 92,
   "id": "7f37e243",
   "metadata": {},
   "outputs": [
    {
     "name": "stdout",
     "output_type": "stream",
     "text": [
      "Enter your salary10000\n",
      "I Will buy a car\n"
     ]
    }
   ],
   "source": [
    "salary = int(input(\"Enter your salary\"))\n",
    "if salary > 1000:\n",
    "    print(\"I Will buy a car\")\n",
    "elif salary > 500:\n",
    "    print(\"I will buy a bike\")\n",
    "elif salary > 100:\n",
    "    print(\"I will not buy anything\")\n",
    "else:\n",
    "    print(\"I will go for saving\")"
   ]
  },
  {
   "cell_type": "code",
   "execution_count": 94,
   "id": "a082c26d",
   "metadata": {},
   "outputs": [
    {
     "name": "stdout",
     "output_type": "stream",
     "text": [
      "Enter your salary2000\n",
      "Your salary is good\n",
      "I will go for car nano\n",
      "False code\n"
     ]
    }
   ],
   "source": [
    "salary = int(input(\"Enter your salary\"))\n",
    "if salary > 1000:\n",
    "    print(\"Your salary is good\")\n",
    "    if salary < 5000:\n",
    "        print(\"I will go for car nano\")\n",
    "        if True:\n",
    "            print(\"False code\")\n",
    "    elif salary < 10000:\n",
    "        print(\"I will go for maruti\")\n",
    "    elif salary < 50000:\n",
    "        print(\"I will go for Toyota car\")\n",
    "    else:\n",
    "        print(\"I will go for rent\")\n",
    "elif salary > 500:\n",
    "    print(\"I will buy a bike\")\n",
    "elif salary > 100:\n",
    "    print(\"I will not buy anything\")\n",
    "else:\n",
    "    print(\"I will go for saving\")"
   ]
  },
  {
   "cell_type": "code",
   "execution_count": 96,
   "id": "9a498466",
   "metadata": {},
   "outputs": [
    {
     "name": "stdout",
     "output_type": "stream",
     "text": [
      "10\n"
     ]
    }
   ],
   "source": [
    "# Printing \n",
    "a = 10\n",
    "print(a)"
   ]
  },
  {
   "cell_type": "code",
   "execution_count": 98,
   "id": "22b1cf6c",
   "metadata": {},
   "outputs": [
    {
     "data": {
      "text/plain": [
       "10"
      ]
     },
     "execution_count": 98,
     "metadata": {},
     "output_type": "execute_result"
    }
   ],
   "source": [
    "# Displaying \n",
    "a"
   ]
  },
  {
   "cell_type": "code",
   "execution_count": 99,
   "id": "f559dc2c",
   "metadata": {},
   "outputs": [
    {
     "name": "stdout",
     "output_type": "stream",
     "text": [
      "2616015809872\n"
     ]
    }
   ],
   "source": [
    "print(id(b))"
   ]
  },
  {
   "cell_type": "code",
   "execution_count": 100,
   "id": "559579a1",
   "metadata": {},
   "outputs": [
    {
     "name": "stdout",
     "output_type": "stream",
     "text": [
      "2 3 4\n"
     ]
    },
    {
     "ename": "ValueError",
     "evalue": "too many values to unpack (expected 3)",
     "output_type": "error",
     "traceback": [
      "\u001b[1;31m---------------------------------------------------------------------------\u001b[0m",
      "\u001b[1;31mValueError\u001b[0m                                Traceback (most recent call last)",
      "Input \u001b[1;32mIn [100]\u001b[0m, in \u001b[0;36m<cell line: 1>\u001b[1;34m()\u001b[0m\n\u001b[1;32m----> 1\u001b[0m (a,b,c)\u001b[38;5;241m=\u001b[39m \u001b[38;5;28minput\u001b[39m()\n",
      "\u001b[1;31mValueError\u001b[0m: too many values to unpack (expected 3)"
     ]
    }
   ],
   "source": [
    "(a,b,c)= input()"
   ]
  },
  {
   "cell_type": "code",
   "execution_count": 101,
   "id": "e9905f86",
   "metadata": {},
   "outputs": [
    {
     "name": "stdout",
     "output_type": "stream",
     "text": [
      "123\n"
     ]
    }
   ],
   "source": [
    "(a,b,c)= input()"
   ]
  },
  {
   "cell_type": "code",
   "execution_count": 102,
   "id": "e8e38f7d",
   "metadata": {},
   "outputs": [
    {
     "data": {
      "text/plain": [
       "'1'"
      ]
     },
     "execution_count": 102,
     "metadata": {},
     "output_type": "execute_result"
    }
   ],
   "source": [
    "a"
   ]
  },
  {
   "cell_type": "code",
   "execution_count": 103,
   "id": "f76844f6",
   "metadata": {},
   "outputs": [
    {
     "data": {
      "text/plain": [
       "'2'"
      ]
     },
     "execution_count": 103,
     "metadata": {},
     "output_type": "execute_result"
    }
   ],
   "source": [
    "b"
   ]
  },
  {
   "cell_type": "code",
   "execution_count": 104,
   "id": "4ca438d2",
   "metadata": {},
   "outputs": [
    {
     "data": {
      "text/plain": [
       "'3'"
      ]
     },
     "execution_count": 104,
     "metadata": {},
     "output_type": "execute_result"
    }
   ],
   "source": [
    "c"
   ]
  },
  {
   "cell_type": "code",
   "execution_count": null,
   "id": "cfe7485d",
   "metadata": {},
   "outputs": [],
   "source": []
  }
 ],
 "metadata": {
  "kernelspec": {
   "display_name": "Python 3 (ipykernel)",
   "language": "python",
   "name": "python3"
  },
  "language_info": {
   "codemirror_mode": {
    "name": "ipython",
    "version": 3
   },
   "file_extension": ".py",
   "mimetype": "text/x-python",
   "name": "python",
   "nbconvert_exporter": "python",
   "pygments_lexer": "ipython3",
   "version": "3.9.12"
  }
 },
 "nbformat": 4,
 "nbformat_minor": 5
}
